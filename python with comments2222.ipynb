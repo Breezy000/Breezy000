{
 "cells": [
  {
   "cell_type": "markdown",
   "id": "eb04e839-9838-4e01-88ac-d0e71d08d2dc",
   "metadata": {},
   "source": [
    "1.Induction\n",
    "   This report presents an analysis of the factors influencing the Human Rights Index. \n",
    "   In the report, we first examine how economic, social and political variables effect the human rights. Then we investigate the continents' interact effect on those variables.\n",
    "   We set human rights index as outcome variable, introduce \"GDP\", \"Develop\", \"Age\", \"Labor\", \"Corruption\", \"Urban\" as independent variables.\n",
    "   Where \"GDP\" means the GDP per capita($).\n",
    "         \"Develop\" means the human development index, ranging from 0 to 1.\n",
    "         \"Age\" means the median age of the citizen. \n",
    "         \"Labor\" means the ratio of female to male labor force participation rates.\n",
    "         \"Corruption\" means the corruption perception index, ranging from 0 to 100.\n",
    "         \"Urban\" means the percentage of urban population, ranging from 0 to 1.\n",
    "  The \"GDP\" and \"Urban\" are to measure the economic level, the \"Develop\", \"Age\" and \"Labor\" are to measure the social level while \"Corruption\" measures the polity.\n",
    "  Then we use the country code to set a new categorical variable \"Continent\" which including \"Asia\", \"Europe\", \"Africa\", \"Americas\", \"Oceania\". "
   ]
  },
  {
   "cell_type": "code",
   "execution_count": 8,
   "id": "ae08246e-80ad-4019-971f-8bd662359b6d",
   "metadata": {},
   "outputs": [],
   "source": [
    "import numpy as np\n",
    "import pandas as pd\n",
    "import matplotlib.pyplot as plt\n",
    "import seaborn as sns\n",
    "import statsmodels.api as sm\n",
    "import statsmodels.formula.api as smf\n",
    "from statsmodels.stats.outliers_influence import variance_inflation_factor\n",
    "from scipy.stats import shapiro, jarque_bera\n",
    "import scipy.stats as stats\n",
    "from sklearn.preprocessing import StandardScaler\n",
    "from statsmodels.formula.api import ols"
   ]
  },
  {
   "cell_type": "markdown",
   "id": "a6539b2d-06af-4a82-acd8-0df56f605c80",
   "metadata": {},
   "source": [
    "2.Tidying data"
   ]
  },
  {
   "cell_type": "code",
   "execution_count": 23,
   "id": "e2d3f816-af1e-44d4-8b41-32e057eeaf3b",
   "metadata": {
    "scrolled": true
   },
   "outputs": [],
   "source": [
    "# Read the data\n",
    "data2 = pd.read_csv(\"D:/AAAglasgow/DAS/2project/data2.csv\")"
   ]
  },
  {
   "cell_type": "markdown",
   "id": "4e7d2cc1-731e-4682-a3c2-296b6e2fc528",
   "metadata": {},
   "source": [
    "   All independent variables except Continent were standardized using the StandardScaler method, ensuring that they have a mean of 0 and a standard deviation of 1. \n",
    "   This step helps mitigate issues caused by differences in measurement scales."
   ]
  },
  {
   "cell_type": "code",
   "execution_count": 25,
   "id": "afc5a927-1613-43d4-9bad-459568632474",
   "metadata": {},
   "outputs": [],
   "source": [
    "# Standardize all the exlain variables\n",
    "vars_to_standardize = [\"GDP\", \"Develop\", \"Age\", \"Labor\", \"Corruption\", \"Urban\"]\n",
    "scaler = StandardScaler()\n",
    "data2[vars_to_standardize] = scaler.fit_transform(data2[vars_to_standardize])"
   ]
  },
  {
   "cell_type": "markdown",
   "id": "894188d0-c0fa-42a5-ad8b-abaf97a6d7c1",
   "metadata": {},
   "source": [
    "3.Fitting models\n",
    "  Firstly, we use the multiple regression regardless the effect of interacton to see how those variables directly influence the human rights. So we fit the model 1."
   ]
  },
  {
   "cell_type": "code",
   "execution_count": 29,
   "id": "48ec31f0-1088-4dc1-981b-1f0578a752ad",
   "metadata": {},
   "outputs": [
    {
     "name": "stdout",
     "output_type": "stream",
     "text": [
      "                            OLS Regression Results                            \n",
      "==============================================================================\n",
      "Dep. Variable:     human_rights_index   R-squared:                       0.441\n",
      "Model:                            OLS   Adj. R-squared:                  0.420\n",
      "Method:                 Least Squares   F-statistic:                     20.55\n",
      "Date:                Wed, 05 Mar 2025   Prob (F-statistic):           1.19e-17\n",
      "Time:                        07:21:20   Log-Likelihood:                 37.657\n",
      "No. Observations:                 163   AIC:                            -61.31\n",
      "Df Residuals:                     156   BIC:                            -39.66\n",
      "Df Model:                           6                                         \n",
      "Covariance Type:            nonrobust                                         \n",
      "==============================================================================\n",
      "                 coef    std err          t      P>|t|      [0.025      0.975]\n",
      "------------------------------------------------------------------------------\n",
      "Intercept      0.6812      0.015     44.302      0.000       0.651       0.712\n",
      "GDP           -0.0862      0.030     -2.848      0.005      -0.146      -0.026\n",
      "Develop       -0.0523      0.049     -1.067      0.288      -0.149       0.045\n",
      "Age            0.0757      0.037      2.060      0.041       0.003       0.148\n",
      "Labor          0.0587      0.017      3.523      0.001       0.026       0.092\n",
      "Corruption     0.1632      0.027      6.157      0.000       0.111       0.216\n",
      "Urban          0.0477      0.023      2.102      0.037       0.003       0.092\n",
      "==============================================================================\n",
      "Omnibus:                       19.584   Durbin-Watson:                   1.809\n",
      "Prob(Omnibus):                  0.000   Jarque-Bera (JB):               22.654\n",
      "Skew:                          -0.853   Prob(JB):                     1.20e-05\n",
      "Kurtosis:                       3.651   Cond. No.                         7.63\n",
      "==============================================================================\n",
      "\n",
      "Notes:\n",
      "[1] Standard Errors assume that the covariance matrix of the errors is correctly specified.\n"
     ]
    }
   ],
   "source": [
    "# Model1\n",
    "model1 = ols(\"human_rights_index ~ GDP + Develop + Age + Labor + Corruption + Urban\", data=data2).fit()\n",
    "print(model1.summary())"
   ]
  },
  {
   "cell_type": "code",
   "execution_count": 31,
   "id": "a9492756-82be-46d5-96de-474a3f2a1c15",
   "metadata": {},
   "outputs": [
    {
     "data": {
      "text/latex": [
       "\n",
       "\\[\n",
       "\\text{{human\\_rights\\_index}} = \\beta_0 + \\beta_1 \\times \\text{{GDP}} + \\beta_2 \\times \\text{{Develop}} + \\beta_3 \\times \\text{{Age}} + \\beta_4 \\times \\text{{Labor}} + \\beta_5 \\times \\text{{Corruption}} + \\beta_6 \\times \\text{{Urban}} + \\epsilon\n",
       "\\]\n"
      ],
      "text/plain": [
       "<IPython.core.display.Latex object>"
      ]
     },
     "metadata": {},
     "output_type": "display_data"
    }
   ],
   "source": [
    "from IPython.display import Latex\n",
    "\n",
    "latex_string = r\"\"\"\n",
    "\\[\n",
    "\\text{{human\\_rights\\_index}} = \\beta_0 + \\beta_1 \\times \\text{{GDP}} + \\beta_2 \\times \\text{{Develop}} + \\beta_3 \\times \\text{{Age}} + \\beta_4 \\times \\text{{Labor}} + \\beta_5 \\times \\text{{Corruption}} + \\beta_6 \\times \\text{{Urban}} + \\epsilon\n",
    "\\]\n",
    "\"\"\"\n",
    "\n",
    "display(Latex(latex_string))"
   ]
  },
  {
   "cell_type": "markdown",
   "id": "a3c54c98-ba7c-4b41-bdd1-9f0cd50f4454",
   "metadata": {},
   "source": [
    "  The p value of F-statistic is 1.19e-17, which indicates model 1 is statistically significant.\n",
    "  All the variables except \"Develop\" are statistically significant. Among those significant variable, only the \"GDP\" has a negative ralationship with human rights index, which is different from the corrorlation plot and what we expected. To further analysis this question, we need to adjust our model.\n",
    "  As we can see in the radar plot, the level of all the varieables differs from different continents. So we input the categorical variable \"Continent\" as an interaction effect to see more comprehensively how those varieables work on the human right index and fit the model 2."
   ]
  },
  {
   "cell_type": "code",
   "execution_count": 33,
   "id": "b2629d1a-b8af-46e2-9ca3-cee356d11191",
   "metadata": {},
   "outputs": [
    {
     "name": "stdout",
     "output_type": "stream",
     "text": [
      "                            OLS Regression Results                            \n",
      "==============================================================================\n",
      "Dep. Variable:     human_rights_index   R-squared:                       0.607\n",
      "Model:                            OLS   Adj. R-squared:                  0.511\n",
      "Method:                 Least Squares   F-statistic:                     6.283\n",
      "Date:                Wed, 05 Mar 2025   Prob (F-statistic):           1.80e-14\n",
      "Time:                        07:21:29   Log-Likelihood:                 66.373\n",
      "No. Observations:                 163   AIC:                            -66.75\n",
      "Df Residuals:                     130   BIC:                             35.35\n",
      "Df Model:                          32                                         \n",
      "Covariance Type:            nonrobust                                         \n",
      "====================================================================================================\n",
      "                                       coef    std err          t      P>|t|      [0.025      0.975]\n",
      "----------------------------------------------------------------------------------------------------\n",
      "Intercept                            0.5720      0.119      4.792      0.000       0.336       0.808\n",
      "Continent[T.Americas]                0.2131      0.130      1.640      0.103      -0.044       0.470\n",
      "Continent[T.Asia]                   -0.0093      0.125     -0.074      0.941      -0.257       0.239\n",
      "Continent[T.Europe]                  0.1322      0.232      0.570      0.570      -0.327       0.591\n",
      "Continent[T.Oceania]                 0.2547      0.255      1.000      0.319      -0.249       0.759\n",
      "GDP                                 -0.2686      0.247     -1.088      0.279      -0.757       0.220\n",
      "GDP:Continent[T.Americas]            0.2607      0.271      0.961      0.338      -0.276       0.797\n",
      "GDP:Continent[T.Asia]                0.1146      0.252      0.455      0.650      -0.383       0.612\n",
      "GDP:Continent[T.Europe]              0.2497      0.253      0.987      0.325      -0.251       0.750\n",
      "GDP:Continent[T.Oceania]             0.2538      0.540      0.470      0.639      -0.814       1.322\n",
      "Develop                             -0.0896      0.093     -0.959      0.339      -0.274       0.095\n",
      "Develop:Continent[T.Americas]        0.2475      0.214      1.155      0.250      -0.176       0.671\n",
      "Develop:Continent[T.Asia]            0.1497      0.133      1.126      0.262      -0.113       0.413\n",
      "Develop:Continent[T.Europe]          0.2465      0.229      1.078      0.283      -0.206       0.699\n",
      "Develop:Continent[T.Oceania]         0.0874      0.316      0.277      0.782      -0.538       0.712\n",
      "Age                                  0.0720      0.107      0.672      0.503      -0.140       0.284\n",
      "Age:Continent[T.Americas]           -0.1332      0.224     -0.594      0.553      -0.577       0.310\n",
      "Age:Continent[T.Asia]               -0.0596      0.127     -0.469      0.640      -0.311       0.192\n",
      "Age:Continent[T.Europe]             -0.0562      0.165     -0.340      0.734      -0.383       0.271\n",
      "Age:Continent[T.Oceania]            -0.0519      0.486     -0.107      0.915      -1.014       0.910\n",
      "Labor                                0.0561      0.028      2.016      0.046       0.001       0.111\n",
      "Labor:Continent[T.Americas]          0.0285      0.096      0.296      0.768      -0.162       0.219\n",
      "Labor:Continent[T.Asia]             -0.0361      0.039     -0.933      0.353      -0.113       0.040\n",
      "Labor:Continent[T.Europe]           -0.0949      0.116     -0.818      0.415      -0.325       0.135\n",
      "Labor:Continent[T.Oceania]          -0.0751      0.215     -0.349      0.728      -0.500       0.350\n",
      "Corruption                           0.2159      0.048      4.476      0.000       0.120       0.311\n",
      "Corruption:Continent[T.Americas]    -0.1771      0.104     -1.700      0.092      -0.383       0.029\n",
      "Corruption:Continent[T.Asia]         0.0141      0.070      0.201      0.841      -0.124       0.153\n",
      "Corruption:Continent[T.Europe]      -0.1299      0.095     -1.367      0.174      -0.318       0.058\n",
      "Corruption:Continent[T.Oceania]     -0.1362      0.182     -0.749      0.455      -0.496       0.224\n",
      "Urban                                0.1263      0.037      3.417      0.001       0.053       0.199\n",
      "Urban:Continent[T.Americas]         -0.1361      0.066     -2.056      0.042      -0.267      -0.005\n",
      "Urban:Continent[T.Asia]             -0.1146      0.059     -1.944      0.054      -0.231       0.002\n",
      "Urban:Continent[T.Europe]           -0.2201      0.072     -3.040      0.003      -0.363      -0.077\n",
      "Urban:Continent[T.Oceania]          -0.1559      0.296     -0.527      0.599      -0.741       0.429\n",
      "==============================================================================\n",
      "Omnibus:                       24.404   Durbin-Watson:                   1.851\n",
      "Prob(Omnibus):                  0.000   Jarque-Bera (JB):               34.038\n",
      "Skew:                          -0.850   Prob(JB):                     4.06e-08\n",
      "Kurtosis:                       4.457   Cond. No.                     1.42e+16\n",
      "==============================================================================\n",
      "\n",
      "Notes:\n",
      "[1] Standard Errors assume that the covariance matrix of the errors is correctly specified.\n",
      "[2] The smallest eigenvalue is 3.92e-30. This might indicate that there are\n",
      "strong multicollinearity problems or that the design matrix is singular.\n"
     ]
    }
   ],
   "source": [
    "# Model2\n",
    "model2 = ols(\"human_rights_index ~ (GDP + Develop + Age + Labor + Corruption + Urban) * Continent\", data=data2).fit()\n",
    "print(model2.summary())"
   ]
  },
  {
   "cell_type": "code",
   "execution_count": 35,
   "id": "f381695f-db92-431f-9e9c-4cfbad235686",
   "metadata": {
    "scrolled": true
   },
   "outputs": [
    {
     "data": {
      "text/latex": [
       "\n",
       "\\[\n",
       "\\text{{human\\_rights\\_index}} = \\beta_0 + \\beta_1 \\cdot \\text{{GDP}} + \\beta_2 \\cdot \\text{{Develop}} + \\beta_3 \\cdot \\text{{Age}} + \\beta_4 \\cdot \\text{{Labor}} + \\beta_5 \\cdot \\text{{Corruption}} + \\beta_6 \\cdot \\text{{Urban}} + \\beta_7 \\cdot \\text{{Continent}} \\\\\n",
       "+ \\beta_8 \\cdot (\\text{{GDP}} \\times \\text{{Continent}}) + \\beta_9 \\cdot (\\text{{Develop}} \\times \\text{{Continent}}) + \\beta_{10} \\cdot (\\text{{Age}} \\times \\text{{Continent}}) \\\\\n",
       "+ \\beta_{11} \\cdot (\\text{{Labor}} \\times \\text{{Continent}}) + \\beta_{12} \\cdot (\\text{{Corruption}} \\times \\text{{Continent}}) + \\beta_{13} \\cdot (\\text{{Urban}} \\times \\text{{Continent}}) + \\varepsilon\n",
       "\\]\n"
      ],
      "text/plain": [
       "<IPython.core.display.Latex object>"
      ]
     },
     "metadata": {},
     "output_type": "display_data"
    }
   ],
   "source": [
    "latex_string = r\"\"\"\n",
    "\\[\n",
    "\\text{{human\\_rights\\_index}} = \\beta_0 + \\beta_1 \\cdot \\text{{GDP}} + \\beta_2 \\cdot \\text{{Develop}} + \\beta_3 \\cdot \\text{{Age}} + \\beta_4 \\cdot \\text{{Labor}} + \\beta_5 \\cdot \\text{{Corruption}} + \\beta_6 \\cdot \\text{{Urban}} + \\beta_7 \\cdot \\text{{Continent}} \\\\\n",
    "+ \\beta_8 \\cdot (\\text{{GDP}} \\times \\text{{Continent}}) + \\beta_9 \\cdot (\\text{{Develop}} \\times \\text{{Continent}}) + \\beta_{10} \\cdot (\\text{{Age}} \\times \\text{{Continent}}) \\\\\n",
    "+ \\beta_{11} \\cdot (\\text{{Labor}} \\times \\text{{Continent}}) + \\beta_{12} \\cdot (\\text{{Corruption}} \\times \\text{{Continent}}) + \\beta_{13} \\cdot (\\text{{Urban}} \\times \\text{{Continent}}) + \\varepsilon\n",
    "\\]\n",
    "\"\"\"\n",
    "\n",
    "display(Latex(latex_string))"
   ]
  },
  {
   "cell_type": "markdown",
   "id": "fbff8ede-e203-4c70-a448-1b319241ae7e",
   "metadata": {},
   "source": [
    "  The p value of F-statistic is 1.80e-14, which indicates model 2 is statistically significant.\n",
    "  The coefficents somehow exlpain the interaction effect on humanrights, However as we look throught the p level of t-statistic, the majority of coefficnts are not statistically significant. To solve this question, we use the \"backward\" method to drop all the variables which are not significant. Then we get model 3. "
   ]
  },
  {
   "cell_type": "code",
   "execution_count": 37,
   "id": "d769ad7a-c095-45c1-9f6b-e924f11c66bb",
   "metadata": {},
   "outputs": [
    {
     "name": "stdout",
     "output_type": "stream",
     "text": [
      "                            OLS Regression Results                            \n",
      "==============================================================================\n",
      "Dep. Variable:     human_rights_index   R-squared:                       0.593\n",
      "Model:                            OLS   Adj. R-squared:                  0.536\n",
      "Method:                 Least Squares   F-statistic:                     10.36\n",
      "Date:                Wed, 05 Mar 2025   Prob (F-statistic):           4.13e-19\n",
      "Time:                        07:21:36   Log-Likelihood:                 63.536\n",
      "No. Observations:                 163   AIC:                            -85.07\n",
      "Df Residuals:                     142   BIC:                            -20.10\n",
      "Df Model:                          20                                         \n",
      "Covariance Type:            nonrobust                                         \n",
      "====================================================================================================\n",
      "                                       coef    std err          t      P>|t|      [0.025      0.975]\n",
      "----------------------------------------------------------------------------------------------------\n",
      "Intercept                            0.5054      0.097      5.231      0.000       0.314       0.696\n",
      "Continent[T.Americas]                0.3043      0.105      2.906      0.004       0.097       0.511\n",
      "Continent[T.Asia]                    0.0807      0.100      0.809      0.420      -0.116       0.278\n",
      "Continent[T.Europe]                  0.2987      0.107      2.798      0.006       0.088       0.510\n",
      "Continent[T.Oceania]                -0.2734      2.731     -0.100      0.920      -5.672       5.126\n",
      "GDP                                 -0.3827      0.149     -2.576      0.011      -0.676      -0.089\n",
      "GDP:Continent[T.Americas]            0.4373      0.167      2.622      0.010       0.108       0.767\n",
      "GDP:Continent[T.Asia]                0.2357      0.156      1.515      0.132      -0.072       0.543\n",
      "GDP:Continent[T.Europe]              0.3778      0.156      2.424      0.017       0.070       0.686\n",
      "GDP:Continent[T.Oceania]             0.7725      2.096      0.368      0.713      -3.372       4.916\n",
      "Labor                                0.0386      0.017      2.333      0.021       0.006       0.071\n",
      "Corruption                           0.2201      0.044      5.005      0.000       0.133       0.307\n",
      "Corruption:Continent[T.Americas]    -0.1557      0.071     -2.201      0.029      -0.295      -0.016\n",
      "Corruption:Continent[T.Asia]         0.0188      0.064      0.296      0.768      -0.107       0.145\n",
      "Corruption:Continent[T.Europe]      -0.1087      0.067     -1.631      0.105      -0.240       0.023\n",
      "Corruption:Continent[T.Oceania]      0.2218      1.780      0.125      0.901      -3.297       3.740\n",
      "Urban                                0.1144      0.034      3.321      0.001       0.046       0.183\n",
      "Urban:Continent[T.Americas]         -0.1023      0.058     -1.770      0.079      -0.217       0.012\n",
      "Urban:Continent[T.Asia]             -0.0763      0.049     -1.555      0.122      -0.173       0.021\n",
      "Urban:Continent[T.Europe]           -0.1969      0.067     -2.954      0.004      -0.329      -0.065\n",
      "Urban:Continent[T.Oceania]          -0.6764      2.740     -0.247      0.805      -6.093       4.740\n",
      "==============================================================================\n",
      "Omnibus:                       27.702   Durbin-Watson:                   1.788\n",
      "Prob(Omnibus):                  0.000   Jarque-Bera (JB):               42.050\n",
      "Skew:                          -0.904   Prob(JB):                     7.39e-10\n",
      "Kurtosis:                       4.709   Cond. No.                         598.\n",
      "==============================================================================\n",
      "\n",
      "Notes:\n",
      "[1] Standard Errors assume that the covariance matrix of the errors is correctly specified.\n"
     ]
    }
   ],
   "source": [
    "# Model3\n",
    "model3 = ols(\"human_rights_index ~ GDP * Continent+ Labor + Corruption * Continent + Urban * Continent\", data=data2).fit()\n",
    "print(model3.summary())"
   ]
  },
  {
   "cell_type": "code",
   "execution_count": 47,
   "id": "39bf78c7-7405-4ea3-acee-bc026a2cb0b2",
   "metadata": {},
   "outputs": [
    {
     "data": {
      "text/latex": [
       "\n",
       "\\[\n",
       "\\text{{human\\_rights\\_index}} = \\beta_0 + \\beta_1 \\cdot \\text{{GDP}} + \\beta_2 \\cdot \\text{{GDP}} \\times \\text{{Continent}} + \\beta_3 \\cdot \\text{{Labor}} + \\beta_4 \\cdot \\text{{Corruption}} + \\beta_5 \\cdot \\text{{Corruption}} \\times \\text{{Continent}} + \\beta_6 \\cdot \\text{{Urban}} + \\beta_7 \\cdot \\text{{Urban}} \\times \\text{{Continent}} + \\varepsilon\n",
       "\\]\n"
      ],
      "text/plain": [
       "<IPython.core.display.Latex object>"
      ]
     },
     "metadata": {},
     "output_type": "display_data"
    }
   ],
   "source": [
    "latex_string = r\"\"\"\n",
    "\\[\n",
    "\\text{{human\\_rights\\_index}} = \\beta_0 + \\beta_1 \\cdot \\text{{GDP}} + \\beta_2 \\cdot \\text{{GDP}} \\times \\text{{Continent}} + \\beta_3 \\cdot \\text{{Labor}} + \\beta_4 \\cdot \\text{{Corruption}} + \\beta_5 \\cdot \\text{{Corruption}} \\times \\text{{Continent}} + \\beta_6 \\cdot \\text{{Urban}} + \\beta_7 \\cdot \\text{{Urban}} \\times \\text{{Continent}} + \\varepsilon\n",
    "\\]\n",
    "\"\"\"\n",
    "\n",
    "display(Latex(latex_string))"
   ]
  },
  {
   "cell_type": "markdown",
   "id": "af397a32-6ebc-4518-b131-fd2919564917",
   "metadata": {},
   "source": [
    "  The p value of F-statistic is 4.13e-19, which indicates model 3 is statistically significant."
   ]
  },
  {
   "cell_type": "markdown",
   "id": "347c39aa-1633-43c9-91b2-a44281fa31e7",
   "metadata": {},
   "source": [
    "4.Model Comparison"
   ]
  },
  {
   "cell_type": "code",
   "execution_count": 39,
   "id": "67042716-324b-4241-aaed-a4362db720f0",
   "metadata": {},
   "outputs": [
    {
     "name": "stdout",
     "output_type": "stream",
     "text": [
      "R-squared: 0.44142908563470906\n",
      "Adjusted R-squared: 0.41994558892835165\n",
      "AIC: -61.31475535745932\n",
      "BIC: -39.65850395181198\n"
     ]
    }
   ],
   "source": [
    "print(f\"R-squared: {model1.rsquared}\")\n",
    "print(f\"Adjusted R-squared: {model1.rsquared_adj}\")\n",
    "print(f\"AIC: {model1.aic}\")\n",
    "print(f\"BIC: {model1.bic}\")"
   ]
  },
  {
   "cell_type": "code",
   "execution_count": 41,
   "id": "98cb7a68-7886-41c9-b2ec-c7ecc598541e",
   "metadata": {},
   "outputs": [
    {
     "name": "stdout",
     "output_type": "stream",
     "text": [
      "R-squared: 0.6073014783859267\n",
      "Adjusted R-squared: 0.5106372269116933\n",
      "AIC: -66.7460753476999\n",
      "BIC: 35.34768127892326\n"
     ]
    }
   ],
   "source": [
    "print(f\"R-squared: {model2.rsquared}\")\n",
    "print(f\"Adjusted R-squared: {model2.rsquared_adj}\")\n",
    "print(f\"AIC: {model2.aic}\")\n",
    "print(f\"BIC: {model2.bic}\")"
   ]
  },
  {
   "cell_type": "code",
   "execution_count": 43,
   "id": "4f63b997-0459-4117-929c-9326936e55ac",
   "metadata": {},
   "outputs": [
    {
     "name": "stdout",
     "output_type": "stream",
     "text": [
      "R-squared: 0.5933884993277332\n",
      "Adjusted R-squared: 0.536119273880935\n",
      "AIC: -85.07106916255447\n",
      "BIC: -20.102314945612463\n"
     ]
    }
   ],
   "source": [
    "print(f\"R-squared: {model3.rsquared}\")\n",
    "print(f\"Adjusted R-squared: {model3.rsquared_adj}\")\n",
    "print(f\"AIC: {model3.aic}\")\n",
    "print(f\"BIC: {model3.bic}\")"
   ]
  },
  {
   "cell_type": "markdown",
   "id": "691c5b3f-fb94-4991-adfc-4c1292672be4",
   "metadata": {},
   "source": [
    "The model 3 has the biggest Adjusted R-squared and the smallest AIC and BIC, so we choose model 3 as our final model."
   ]
  },
  {
   "cell_type": "markdown",
   "id": "b529edfa-35f4-40bc-8969-80741dc0ff10",
   "metadata": {},
   "source": [
    "5. Formal analysis"
   ]
  },
  {
   "cell_type": "code",
   "execution_count": 45,
   "id": "731faac1-c74a-471c-b6e0-5e7a7f599929",
   "metadata": {},
   "outputs": [
    {
     "name": "stdout",
     "output_type": "stream",
     "text": [
      "                            OLS Regression Results                            \n",
      "==============================================================================\n",
      "Dep. Variable:     human_rights_index   R-squared:                       0.593\n",
      "Model:                            OLS   Adj. R-squared:                  0.536\n",
      "Method:                 Least Squares   F-statistic:                     10.36\n",
      "Date:                Wed, 05 Mar 2025   Prob (F-statistic):           4.13e-19\n",
      "Time:                        07:21:46   Log-Likelihood:                 63.536\n",
      "No. Observations:                 163   AIC:                            -85.07\n",
      "Df Residuals:                     142   BIC:                            -20.10\n",
      "Df Model:                          20                                         \n",
      "Covariance Type:            nonrobust                                         \n",
      "====================================================================================================\n",
      "                                       coef    std err          t      P>|t|      [0.025      0.975]\n",
      "----------------------------------------------------------------------------------------------------\n",
      "Intercept                            0.5054      0.097      5.231      0.000       0.314       0.696\n",
      "Continent[T.Americas]                0.3043      0.105      2.906      0.004       0.097       0.511\n",
      "Continent[T.Asia]                    0.0807      0.100      0.809      0.420      -0.116       0.278\n",
      "Continent[T.Europe]                  0.2987      0.107      2.798      0.006       0.088       0.510\n",
      "Continent[T.Oceania]                -0.2734      2.731     -0.100      0.920      -5.672       5.126\n",
      "GDP                                 -0.3827      0.149     -2.576      0.011      -0.676      -0.089\n",
      "GDP:Continent[T.Americas]            0.4373      0.167      2.622      0.010       0.108       0.767\n",
      "GDP:Continent[T.Asia]                0.2357      0.156      1.515      0.132      -0.072       0.543\n",
      "GDP:Continent[T.Europe]              0.3778      0.156      2.424      0.017       0.070       0.686\n",
      "GDP:Continent[T.Oceania]             0.7725      2.096      0.368      0.713      -3.372       4.916\n",
      "Labor                                0.0386      0.017      2.333      0.021       0.006       0.071\n",
      "Corruption                           0.2201      0.044      5.005      0.000       0.133       0.307\n",
      "Corruption:Continent[T.Americas]    -0.1557      0.071     -2.201      0.029      -0.295      -0.016\n",
      "Corruption:Continent[T.Asia]         0.0188      0.064      0.296      0.768      -0.107       0.145\n",
      "Corruption:Continent[T.Europe]      -0.1087      0.067     -1.631      0.105      -0.240       0.023\n",
      "Corruption:Continent[T.Oceania]      0.2218      1.780      0.125      0.901      -3.297       3.740\n",
      "Urban                                0.1144      0.034      3.321      0.001       0.046       0.183\n",
      "Urban:Continent[T.Americas]         -0.1023      0.058     -1.770      0.079      -0.217       0.012\n",
      "Urban:Continent[T.Asia]             -0.0763      0.049     -1.555      0.122      -0.173       0.021\n",
      "Urban:Continent[T.Europe]           -0.1969      0.067     -2.954      0.004      -0.329      -0.065\n",
      "Urban:Continent[T.Oceania]          -0.6764      2.740     -0.247      0.805      -6.093       4.740\n",
      "==============================================================================\n",
      "Omnibus:                       27.702   Durbin-Watson:                   1.788\n",
      "Prob(Omnibus):                  0.000   Jarque-Bera (JB):               42.050\n",
      "Skew:                          -0.904   Prob(JB):                     7.39e-10\n",
      "Kurtosis:                       4.709   Cond. No.                         598.\n",
      "==============================================================================\n",
      "\n",
      "Notes:\n",
      "[1] Standard Errors assume that the covariance matrix of the errors is correctly specified.\n"
     ]
    }
   ],
   "source": [
    "print(model3.summary())"
   ]
  },
  {
   "cell_type": "markdown",
   "id": "1b54f84d-9af0-419b-bcdf-e0f10348f385",
   "metadata": {},
   "source": [
    "The regression formula applied:\n",
    "  Human Rights Index = β0 + β1 * GDP + β2 * Labor + β3 * Corruption + β4 * Urban + β5{i} * Continent{i} + β6{i} * (GDP × Continent{i})+ β8{i} * (Corruption × Continent{i}) + β9{i} * (Urban × Continent{i}) + ϵ\n",
    "  Where Continent{i} is an indicator function, it becomes 1 if the observation is from i continent, otherwise it becomes 0.\n",
    "  The baseline is the Africa countries.\n",
    "Using the estimated coefficients from the results:\n",
    "  Human Rights Index = 0.5054 -0.3827 * GDP + 0.0386 * Labor + 0.2201 * Corruption + 0.1144 * Urban + 0.3043 * Continent{Americas} + 0.2987 * Continent{Europe} + 0.4373 * (GDP × Continent{Americas})+ 0.3778 * (GDP × Continent{Europe}) -0.1557 * (Corruption × Continent{Americas}) -0.1969 * (Urban × Continent{Europe}) + ϵ\n",
    "\n",
    "\n",
    "Conclusion:\n",
    "   1. Intercept: When all independent variables are zero, the average value of human right index in Africa is 0.5054. Americas' and Europe's value are higher than is (0.3043 and 0.2987 higher respectively).\n",
    "   2. GDP: In Africa, GDP has a negetive ralationship with human rights index. While in Americas the ralationship is positive. In Europe, the ralationship is weak. From the radar plot, The GDP value indicates that a threshold exists. When the GDP value accending the threshold, the relationship will become positive from negative. This somehow explains the question in model 1.\n",
    "   3. Labor: The ratio of female to male labor force participation rates benifits the human rights. There is no evidence to say the countries from different continent differ.\n",
    "   4. Corruption: The corruption perception index in Africa has a positive relationship with human rights. That in Americas is weaker but it still remains positive.\n",
    "   5. Urban: The percentage of urban population in Africa has a positive relationship with human rights. That in Europe is negative."
   ]
  },
  {
   "cell_type": "markdown",
   "id": "9258b466-3ecb-4a58-8abd-8a0dd38b4709",
   "metadata": {},
   "source": [
    "6. Model assumption"
   ]
  },
  {
   "cell_type": "code",
   "execution_count": 74,
   "id": "aa14ae2c-d534-4026-a604-08bcd55d3c53",
   "metadata": {},
   "outputs": [
    {
     "data": {
      "image/png": "[encoded data removed]",
      "text/plain": [
       "<Figure size 640x480 with 1 Axes>"
      ]
     },
     "metadata": {},
     "output_type": "display_data"
    },
    {
     "data": {
      "image/png": "[encoded data removed]",
      "text/plain": [
       "<Figure size 640x480 with 1 Axes>"
      ]
     },
     "metadata": {},
     "output_type": "display_data"
    },
    {
     "name": "stdout",
     "output_type": "stream",
     "text": [
      "Breusch-Pagan Test: p-value = 0.14438549531828918\n",
      "Durbin-Watson Test: 1.7884012626785715\n"
     ]
    }
   ],
   "source": [
    "sns.residplot(x=model3.fittedvalues, y=model3.resid, lowess=True, line_kws={\"color\": \"red\"})\n",
    "plt.xlabel(\"Fitted Values\")\n",
    "plt.ylabel(\"Residuals\")\n",
    "plt.title(\"Residual Plot\")\n",
    "plt.show()\n",
    "\n",
    "sm.qqplot(model3.resid, line='s')\n",
    "plt.title(\"QQ Plot of Residuals\")\n",
    "plt.show()\n",
    "\n",
    "\n",
    "from statsmodels.stats.diagnostic import het_breuschpagan\n",
    "bp_test = het_breuschpagan(model3.resid, model3.model.exog)\n",
    "print(f\"Breusch-Pagan Test: p-value = {bp_test[1]}\")\n",
    "\n",
    "\n",
    "dw_test = sm.stats.stattools.durbin_watson(model3.resid)\n",
    "print(f\"Durbin-Watson Test: {dw_test}\")\n"
   ]
  },
  {
   "cell_type": "markdown",
   "id": "2b31dca2-24c9-4be2-8740-fd7bcabe79ed",
   "metadata": {},
   "source": [
    "Assumption 1: the mean of residual is 0\n",
    "  From the residual plot, we can conclude the assumption 1 is reasonable.\n",
    "Assumption 2: the variance of residual is constant\n",
    "  From the residual plot, assumption 2 is doubtful.\n",
    "Assumption 3: the residual follows normal distribution\n",
    "  From the QQ plot, ragardless the truncation, the majarity of residuals follow the normal distribution.\n",
    "Assumption 4: Homoscedasticity\n",
    "  The p-value of Breusch-Pagan Test is 0.14438549531828918, so we fail to reject the null hypothesis, the heteroscedasticity is not present.\n",
    "Assumption 5: Independence of Errors\n",
    "  The value of Durbin-Watson Test is 0.14438549531828918(betwwen 0 and 2), so autocorrelation is not a major issue."
   ]
  },
  {
   "cell_type": "code",
   "execution_count": null,
   "id": "459d45f5-f79f-4b0e-9995-e52297f66eaf",
   "metadata": {},
   "outputs": [],
   "source": []
  }
 ],
 "metadata": {
  "kernelspec": {
   "display_name": "Python 3 (ipykernel)",
   "language": "python",
   "name": "python3"
  },
  "language_info": {
   "codemirror_mode": {
    "name": "ipython",
    "version": 3
   },
   "file_extension": ".py",
   "mimetype": "text/x-python",
   "name": "python",
   "nbconvert_exporter": "python",
   "pygments_lexer": "ipython3",
   "version": "3.12.7"
  }
 },
 "nbformat": 4,
 "nbformat_minor": 5
}
